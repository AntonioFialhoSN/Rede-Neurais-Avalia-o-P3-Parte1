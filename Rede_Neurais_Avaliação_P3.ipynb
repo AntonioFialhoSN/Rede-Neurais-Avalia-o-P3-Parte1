{
  "nbformat": 4,
  "nbformat_minor": 0,
  "metadata": {
    "colab": {
      "provenance": [],
      "authorship_tag": "ABX9TyPtiQ5XMT+xkDItv7KMp/ZE",
      "include_colab_link": true
    },
    "kernelspec": {
      "name": "python3",
      "display_name": "Python 3"
    },
    "language_info": {
      "name": "python"
    }
  },
  "cells": [
    {
      "cell_type": "markdown",
      "metadata": {
        "id": "view-in-github",
        "colab_type": "text"
      },
      "source": [
        "<a href=\"https://colab.research.google.com/github/AntonioFialhoSN/Rede-Neurais-Avalia-o-P3-Parte1/blob/main/Rede_Neurais_Avalia%C3%A7%C3%A3o_P3.ipynb\" target=\"_parent\"><img src=\"https://colab.research.google.com/assets/colab-badge.svg\" alt=\"Open In Colab\"/></a>"
      ]
    },
    {
      "cell_type": "markdown",
      "source": [
        "# Análise Exploratória de Dados (AED)"
      ],
      "metadata": {
        "id": "YnVRJPOkwUMm"
      }
    },
    {
      "cell_type": "code",
      "execution_count": null,
      "metadata": {
        "id": "_eoTHMoGwTy9"
      },
      "outputs": [],
      "source": []
    },
    {
      "cell_type": "code",
      "source": [],
      "metadata": {
        "id": "xH0w_6AjxBwX"
      },
      "execution_count": null,
      "outputs": []
    },
    {
      "cell_type": "markdown",
      "source": [
        "#Normalização de Dados\n",
        "\n"
      ],
      "metadata": {
        "id": "c0ffD6gKxCDm"
      }
    },
    {
      "cell_type": "code",
      "source": [],
      "metadata": {
        "id": "dCTvNw9HxQVm"
      },
      "execution_count": null,
      "outputs": []
    },
    {
      "cell_type": "code",
      "source": [],
      "metadata": {
        "id": "LAXByg-ExQm_"
      },
      "execution_count": null,
      "outputs": []
    },
    {
      "cell_type": "markdown",
      "source": [
        "#Redes Neurais\n"
      ],
      "metadata": {
        "id": "OO9j9z5CxRNX"
      }
    },
    {
      "cell_type": "code",
      "source": [],
      "metadata": {
        "id": "zg9aQQRIxU8W"
      },
      "execution_count": null,
      "outputs": []
    },
    {
      "cell_type": "code",
      "source": [],
      "metadata": {
        "id": "QVX1cmPHxVNm"
      },
      "execution_count": null,
      "outputs": []
    }
  ]
}